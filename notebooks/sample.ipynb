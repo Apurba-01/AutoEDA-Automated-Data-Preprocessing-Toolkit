{
 "cells": [
  {
   "cell_type": "code",
   "execution_count": 75,
   "id": "c0624726",
   "metadata": {},
   "outputs": [],
   "source": [
    "import pandas as pd\n",
    "import numpy as np\n",
    "import os\n",
    "import json\n",
    "\n",
    "# I highly recommend reading this blog post for beginners https://medium.com/@taribosamuel/titanic-dataset-survival-patterns-4d8d22ab6a5b"
   ]
  },
  {
   "cell_type": "code",
   "execution_count": 76,
   "id": "51b3702f",
   "metadata": {},
   "outputs": [
    {
     "name": "stdout",
     "output_type": "stream",
     "text": [
      "Loaded 'c:\\Users\\Cheethan\\OneDrive\\Desktop\\Github_contribution\\AutoEDA-Automated-Data-Preprocessing-Toolkit\\notebooks\\sample_csv\\titanic.csv' with shape (891, 12)\n"
     ]
    },
    {
     "data": {
      "text/plain": [
       "(891, 12)"
      ]
     },
     "execution_count": 76,
     "metadata": {},
     "output_type": "execute_result"
    }
   ],
   "source": [
    "\n",
    "base_dir = os.getcwd()  \n",
    "file_path = os.path.join(base_dir, \"sample_csv\", \"titanic.csv\")\n",
    "\n",
    "try:\n",
    "    df = pd.read_csv(file_path)\n",
    "    print(f\"Loaded '{file_path}' with shape {df.shape}\")\n",
    "except Exception as e:\n",
    "    raise ValueError(f\"could not load file: {e}\")\n",
    "\n",
    "df.shape"
   ]
  },
  {
   "cell_type": "markdown",
   "id": "84d8e47e",
   "metadata": {},
   "source": [
    "# The above cell Dynamically loads data from the folder"
   ]
  },
  {
   "cell_type": "code",
   "execution_count": 77,
   "id": "3f84f3eb",
   "metadata": {},
   "outputs": [
    {
     "name": "stdout",
     "output_type": "stream",
     "text": [
      "Cleaned data shape: (891, 12)\n"
     ]
    }
   ],
   "source": [
    "# Remove duplicate rows from the DataFrame\n",
    "df.drop_duplicates(inplace=True)\n",
    "\n",
    "# Fill missing values in numeric columns with their respective column means\n",
    "for col in df.select_dtypes(include='number'):\n",
    "    df[col] = df[col].fillna(df[col].mean())  \n",
    "\n",
    "# Fill missing values in categorical (object) columns with the most frequent value (mode)\n",
    "for col in df.select_dtypes(include='object'):\n",
    "    if df[col].isnull().any():\n",
    "        df[col] = df[col].fillna(df[col].mode()[0])\n",
    "\n",
    "# Strip leading/trailing whitespace from string columns to clean up inconsistent text data\n",
    "for col in df.select_dtypes(include='object'):\n",
    "    df[col] = df[col].str.strip()\n",
    "\n",
    "print(f\"Cleaned data shape: {df.shape}\")\n"
   ]
  },
  {
   "cell_type": "markdown",
   "id": "8fbbc18c",
   "metadata": {},
   "source": [
    "# Note on FutureWarning in Pandas\n",
    "\n",
    "Pandas raises a `FutureWarning` when using `inplace=True` on expressions like `df[col]` because it creates an intermediate object (a copy), not a direct reference to the original DataFrame.\n",
    "\n",
    "This behavior **will not be supported in pandas 3.0+**, and your changes may not apply as expected.\n",
    "\n",
    "####  Best Practice:\n",
    "Instead of this:\n",
    "\n",
    "df[col].fillna(df[col].mode()[0], inplace=True)  \n",
    "\n",
    "use: **df[col] = df[col].fillna(df[col].mode()[0])**\n",
    "\n",
    "Didn't update the code as ppl might notice it and stop their habit of using inplace "
   ]
  },
  {
   "cell_type": "code",
   "execution_count": 78,
   "id": "6a52ea7d",
   "metadata": {},
   "outputs": [
    {
     "name": "stdout",
     "output_type": "stream",
     "text": [
      "Numerical columns: ['PassengerId', 'Age', 'Fare']\n",
      "Categorical columns (including encoded): ['Name', 'Sex', 'Ticket', 'Cabin', 'Embarked', 'Survived', 'Pclass', 'SibSp', 'Parch']\n"
     ]
    }
   ],
   "source": [
    "# Get all columns with numeric data types\n",
    "numeric_cols = df.select_dtypes(include='number').columns\n",
    "\n",
    "# Prepare lists to separate true numerical and encoded categorical columns\n",
    "numerical_cols = []\n",
    "encoded_categorical_cols = []\n",
    "\n",
    "# Loop through numeric columns to detect encoded categoricals\n",
    "for col in numeric_cols:\n",
    "    unique_vals = df[col].dropna().unique()  # Get non-null unique values\n",
    "    # Heuristic: If the column has 10 or fewer unique integer values, treat as categorical\n",
    "    if len(unique_vals) <= 10 and all(float(val).is_integer() for val in unique_vals):\n",
    "        encoded_categorical_cols.append(col)\n",
    "    else:\n",
    "        numerical_cols.append(col)\n",
    "\n",
    "# Create DataFrame with true numerical columns\n",
    "df_numerical = df[numerical_cols]\n",
    "\n",
    "# Create DataFrame with string-based categorical columns (object dtype)\n",
    "df_categorical = df.select_dtypes(include='object')\n",
    "\n",
    "# Add detected encoded categorical columns to the categorical DataFrame\n",
    "df_categorical = pd.concat([df_categorical, df[encoded_categorical_cols]], axis=1)\n",
    "\n",
    "\n",
    "print(\"Numerical columns:\", list(df_numerical.columns))\n",
    "print(\"Categorical columns (including encoded):\", list(df_categorical.columns))\n"
   ]
  },
  {
   "cell_type": "code",
   "execution_count": 79,
   "id": "38c31b13",
   "metadata": {},
   "outputs": [],
   "source": [
    "def numerical_stats(num_df):\n",
    "    stats = {}\n",
    "    for col in num_df.columns:\n",
    "        stats[col] = {\n",
    "            \"mean\": num_df[col].mean(),\n",
    "            \"median\": num_df[col].median(),\n",
    "            \"min\": num_df[col].min(),\n",
    "            \"max\": num_df[col].max(),\n",
    "            \"std\": num_df[col].std(),\n",
    "            \"missing\": num_df[col].isnull().sum()\n",
    "        }\n",
    "    return stats\n",
    "\n",
    "def most_frequent_values(series):\n",
    "    freq = series.value_counts()\n",
    "    return freq[freq == freq.max()].index.tolist()\n",
    "\n",
    "def categorical_stats(cat_df):\n",
    "    stats = {}\n",
    "    for col in cat_df.columns:\n",
    "        stats[col] = {\n",
    "            \"most_frequent_value\": most_frequent_values(cat_df[col]),\n",
    "            \"unique_counts\": cat_df[col].nunique()\n",
    "        }\n",
    "    return stats\n",
    "\n",
    "def full_stats(numerical_df, categorical_df):\n",
    "    return {\n",
    "        \"Numerical Columns\": numerical_stats(numerical_df),\n",
    "        \"Categorical Columns\": categorical_stats(categorical_df)\n",
    "    }"
   ]
  },
  {
   "cell_type": "markdown",
   "id": "122fae02",
   "metadata": {},
   "source": [
    "# Note: Functions like .mean(), .median(), and .mode() automatically ignore NaN values,\n",
    "# so missing data does not need to be removed for these calculations to work correctly.\n",
    "# However, .isnull() specifically identifies and counts NaN values.\n"
   ]
  },
  {
   "cell_type": "code",
   "execution_count": 80,
   "id": "105270f5",
   "metadata": {},
   "outputs": [],
   "source": [
    "def convert_to_builtin_types(obj):\n",
    "    if isinstance(obj, (np.integer, np.int64, np.int32)):\n",
    "        return int(obj)\n",
    "    elif isinstance(obj, (np.floating, np.float64, np.float32)):\n",
    "        return float(obj)\n",
    "    elif isinstance(obj, (np.bool_)):\n",
    "        return bool(obj)\n",
    "    elif isinstance(obj, (np.ndarray, list)):\n",
    "        return list(obj)\n",
    "    elif isinstance(obj, dict):\n",
    "        return {k: convert_to_builtin_types(v) for k, v in obj.items()}\n",
    "    else:\n",
    "        return obj"
   ]
  },
  {
   "cell_type": "markdown",
   "id": "b057952d",
   "metadata": {},
   "source": [
    "# Why We Use `convert_to_builtin_types()`\n",
    "\n",
    "When exporting a Python dictionary (such as the summary statistics) to a `.json` file using `json.dump()`, you may encounter the following error:\n",
    "\n",
    "\n",
    "\n",
    "This happens because pandas and NumPy use specialized data types such as:\n",
    "- `np.int64`, `np.float64`, `np.bool_`\n",
    "- `np.ndarray`\n",
    "\n",
    "These types are **not supported by Python's built-in `json` module**.\n",
    "\n",
    "To handle this, we use the `convert_to_builtin_types()` function, which:\n",
    "\n",
    "- Converts NumPy integers to standard Python `int`\n",
    "- Converts NumPy floats to standard Python `float`\n",
    "- Converts NumPy booleans to Python `bool`\n",
    "- Converts NumPy arrays to Python lists\n",
    "- Recursively applies these conversions to values inside dictionaries\n",
    "\n",
    "This ensures that the final dictionary contains **only native Python types**, making it safe to export to JSON format."
   ]
  },
  {
   "cell_type": "code",
   "execution_count": 81,
   "id": "e2290c52",
   "metadata": {},
   "outputs": [
    {
     "name": "stdout",
     "output_type": "stream",
     "text": [
      "Exported summary stats to: c:\\Users\\Cheethan\\OneDrive\\Desktop\\Github_contribution\\AutoEDA-Automated-Data-Preprocessing-Toolkit\\notebooks\\sample_csv\\statistics_summary\\titanic_stats_summary.json\n"
     ]
    }
   ],
   "source": [
    "cleaned_stats = convert_to_builtin_types(full_stats(df_numerical, df_categorical))\n",
    "\n",
    "# Build new folder path\n",
    "base_folder = os.path.dirname(file_path)\n",
    "summary_folder = os.path.join(base_folder, \"statistics_summary\")\n",
    "os.makedirs(summary_folder, exist_ok=True)\n",
    "\n",
    "# Export path inside new folder\n",
    "filename = os.path.splitext(os.path.basename(file_path))[0]\n",
    "json_export_path = os.path.join(summary_folder, f\"{filename}_stats_summary.json\")\n",
    "\n",
    "# Write to JSON\n",
    "with open(json_export_path, \"w\") as f:\n",
    "    json.dump(cleaned_stats, f, indent=4)\n",
    "\n",
    "print(f\"Exported summary stats to: {json_export_path}\")"
   ]
  },
  {
   "cell_type": "code",
   "execution_count": null,
   "id": "ce22fc55",
   "metadata": {},
   "outputs": [],
   "source": []
  }
 ],
 "metadata": {
  "kernelspec": {
   "display_name": ".venv",
   "language": "python",
   "name": "python3"
  },
  "language_info": {
   "codemirror_mode": {
    "name": "ipython",
    "version": 3
   },
   "file_extension": ".py",
   "mimetype": "text/x-python",
   "name": "python",
   "nbconvert_exporter": "python",
   "pygments_lexer": "ipython3",
   "version": "3.12.1"
  }
 },
 "nbformat": 4,
 "nbformat_minor": 5
}
